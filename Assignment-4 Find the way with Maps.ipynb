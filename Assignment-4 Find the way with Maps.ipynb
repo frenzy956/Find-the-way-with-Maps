{
 "cells": [
  {
   "cell_type": "markdown",
   "id": "189c4245",
   "metadata": {},
   "source": [
    "# Write a Python program to triple all numbers of a given list of integers. Use Python map."
   ]
  },
  {
   "cell_type": "markdown",
   "id": "cb661faa",
   "metadata": {},
   "source": [
    "#### sample list: [1, 2, 3, 4, 5, 6, 7]"
   ]
  },
  {
   "cell_type": "markdown",
   "id": "58973b97",
   "metadata": {},
   "source": [
    "#### Triple of list numbers:\n",
    "\n",
    "[3, 6, 9, 12, 15, 18, 21]"
   ]
  },
  {
   "cell_type": "markdown",
   "id": "cb2c9e8e",
   "metadata": {},
   "source": [
    "--------"
   ]
  },
  {
   "cell_type": "code",
   "execution_count": 1,
   "id": "6ff0dde0",
   "metadata": {},
   "outputs": [
    {
     "name": "stdout",
     "output_type": "stream",
     "text": [
      "sample list:  (1, 2, 3, 4, 5, 6, 7)\n",
      "\n",
      "Triple of list numbers:\n",
      "[3, 6, 9, 12, 15, 18, 21]\n"
     ]
    }
   ],
   "source": [
    "nums = (1, 2, 3, 4, 5, 6, 7) \n",
    "print(\"sample list: \", nums)\n",
    "result = map(lambda x: x + x + x, nums) \n",
    "print(\"\\nTriple of list numbers:\")\n",
    "print(list(result))\n"
   ]
  },
  {
   "cell_type": "markdown",
   "id": "a336e06d",
   "metadata": {},
   "source": [
    "--------"
   ]
  },
  {
   "cell_type": "code",
   "execution_count": 2,
   "id": "0f3e6415",
   "metadata": {},
   "outputs": [
    {
     "name": "stdout",
     "output_type": "stream",
     "text": [
      "sample list:  (1, 2, 3, 4, 5, 6, 7)\n",
      "\n",
      "Triple of list numbers:\n",
      "[3, 6, 9, 12, 15, 18, 21]\n"
     ]
    }
   ],
   "source": [
    "nums = (1, 2, 3, 4, 5, 6, 7) \n",
    "print(\"sample list: \", nums)\n",
    "result = map(lambda x: x*3, nums) \n",
    "print(\"\\nTriple of list numbers:\")\n",
    "print(list(result))"
   ]
  }
 ],
 "metadata": {
  "kernelspec": {
   "display_name": "Python 3 (ipykernel)",
   "language": "python",
   "name": "python3"
  },
  "language_info": {
   "codemirror_mode": {
    "name": "ipython",
    "version": 3
   },
   "file_extension": ".py",
   "mimetype": "text/x-python",
   "name": "python",
   "nbconvert_exporter": "python",
   "pygments_lexer": "ipython3",
   "version": "3.9.0b2"
  }
 },
 "nbformat": 4,
 "nbformat_minor": 5
}
